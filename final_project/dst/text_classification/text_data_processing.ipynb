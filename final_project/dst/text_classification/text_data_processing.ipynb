{
 "cells": [
  {
   "cell_type": "code",
   "execution_count": 5,
   "id": "3cae544a",
   "metadata": {},
   "outputs": [
    {
     "name": "stdout",
     "output_type": "stream",
     "text": [
      "write to train.csv: finish\n"
     ]
    }
   ],
   "source": [
    "train_dev = 'train' #dev\n",
    "data_num = 128 if train_dev == 'train' else 20\n",
    "import json\n",
    "from pathlib import Path\n",
    "train_list = []\n",
    "data_train = []\n",
    "for idx in range(1, data_num):\n",
    "    train_path = Path(f'data/{train_dev}/dialogues_{idx:0>3}.json')\n",
    "    data_train.extend(json.load(open(train_path)))\n",
    "    \n",
    "for i, _ in enumerate(data_train):\n",
    "    train_dict={}\n",
    "    train_dict['slot'] = {}\n",
    "    train_dict['context']=''\n",
    "    train_dict['dialogue_id'] = data_train[i]['dialogue_id']\n",
    "    train_dict['services'] = data_train[i]['services']\n",
    "    for turn in data_train[i]['turns']:\n",
    "        train_dict['context']+=turn['utterance']+' '\n",
    "        if turn['frames']:\n",
    "            service = turn['frames'][0]['service']\n",
    "#             train_dict['slot'][service] = []\n",
    "            if 'state' in turn['frames'][0].keys():\n",
    "                for slot in turn['frames'][0]['state']['slot_values']:\n",
    "                    if slot:\n",
    "#                         train_dict['slot'][service].append(slot)\n",
    "                        train_dict['slot'][f'{service} {slot}']=turn['frames'][0]['state']['slot_values'][slot][0]\n",
    "    train_list.append(train_dict)\n",
    "    \n",
    "import torch\n",
    "schema_path = 'data/schema.json'\n",
    "with open(schema_path, encoding=\"utf-8\") as f:\n",
    "    schemas = json.load(f)\n",
    "schema_dict = {}\n",
    "for schema in schemas:\n",
    "    schema_dict[schema['service_name']]=[f\"{schema['service_name']} {slot['name']}: {slot['description']}\" for slot in schema['slots']]\n",
    "question_list = []\n",
    "context_list = []\n",
    "id_list = []\n",
    "label_list = []\n",
    "for i, sample in enumerate(train_list):\n",
    "    for service in sample['services']:\n",
    "        service_list = schema_dict[service]\n",
    "        label = [0]*len(service_list)\n",
    "        for slot in sample['slot']:\n",
    "            slot_service, slot_name = slot.split()\n",
    "            if slot_service == service and (slot_name in s for s in service_list):\n",
    "                key = ''\n",
    "                for s in service_list:\n",
    "                    if slot_name in s:\n",
    "                        key = s\n",
    "                        break\n",
    "                label[service_list.index(key)] = 1\n",
    "        label_list.extend(label)\n",
    "        question_list.extend(service_list)\n",
    "        \n",
    "        for slot in service_list:\n",
    "            context_list.append(sample['context'])\n",
    "            id_list.append(sample['dialogue_id'])\n",
    " \n",
    "import csv\n",
    "# 開啟輸出的 CSV 檔案\n",
    "with open(f'data/{train_dev}.csv', 'w', newline='') as csvfile:\n",
    "  # 建立 CSV 檔寫入器\n",
    "  writer = csv.writer(csvfile)\n",
    "\n",
    "  # 寫入一列資料\n",
    "  #writer.writerow(['id','service-slot','question', 'context', 'answers'])\n",
    "  writer.writerow(['id','label','slot','context'])\n",
    "  for i, _ in enumerate(context_list):\n",
    "          writer.writerow([id_list[i],label_list[i],question_list[i],context_list[i]])\n",
    "print(f'write to {train_dev}.csv: finish')"
   ]
  },
  {
   "cell_type": "code",
   "execution_count": 78,
   "id": "a3d6039b",
   "metadata": {},
   "outputs": [
    {
     "data": {
      "text/plain": [
       "'Media_2 movie_name: Name of the movie'"
      ]
     },
     "execution_count": 78,
     "metadata": {},
     "output_type": "execute_result"
    }
   ],
   "source": [
    "question_list[0]"
   ]
  },
  {
   "cell_type": "code",
   "execution_count": 27,
   "id": "a4ac6d04",
   "metadata": {},
   "outputs": [],
   "source": [
    "# context max_len : 632\n",
    "# num of train data : 32640"
   ]
  },
  {
   "cell_type": "code",
   "execution_count": 49,
   "id": "8651a4ef",
   "metadata": {},
   "outputs": [
    {
     "name": "stdout",
     "output_type": "stream",
     "text": [
      "write to dev.csv: finish\n"
     ]
    }
   ],
   "source": []
  },
  {
   "cell_type": "code",
   "execution_count": 44,
   "id": "8af734b7",
   "metadata": {},
   "outputs": [
    {
     "data": {
      "text/plain": [
       "['song_name: Name of the song',\n",
       " 'artist: Name of the artist the song is performed by',\n",
       " 'album: Album the song belongs to',\n",
       " 'genre: Genre of the song',\n",
       " 'playback_device: Playback device on which the song is to be played']"
      ]
     },
     "execution_count": 44,
     "metadata": {},
     "output_type": "execute_result"
    }
   ],
   "source": [
    "service_list"
   ]
  },
  {
   "cell_type": "code",
   "execution_count": 45,
   "id": "3773fc0c",
   "metadata": {},
   "outputs": [
    {
     "data": {
      "text/plain": [
       "[1, 0, 1, 0, 1]"
      ]
     },
     "execution_count": 45,
     "metadata": {},
     "output_type": "execute_result"
    }
   ],
   "source": [
    "label"
   ]
  },
  {
   "cell_type": "code",
   "execution_count": null,
   "id": "b82f9c53",
   "metadata": {},
   "outputs": [],
   "source": [
    "id_list[-1]"
   ]
  },
  {
   "cell_type": "code",
   "execution_count": null,
   "id": "bdc9b2ed",
   "metadata": {},
   "outputs": [],
   "source": []
  }
 ],
 "metadata": {
  "kernelspec": {
   "display_name": "Python 3 (ipykernel)",
   "language": "python",
   "name": "python3"
  },
  "language_info": {
   "codemirror_mode": {
    "name": "ipython",
    "version": 3
   },
   "file_extension": ".py",
   "mimetype": "text/x-python",
   "name": "python",
   "nbconvert_exporter": "python",
   "pygments_lexer": "ipython3",
   "version": "3.8.0"
  }
 },
 "nbformat": 4,
 "nbformat_minor": 5
}
