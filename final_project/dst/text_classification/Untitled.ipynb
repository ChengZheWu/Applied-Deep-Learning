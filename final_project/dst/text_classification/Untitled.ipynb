{
 "cells": [
  {
   "cell_type": "code",
   "execution_count": 1,
   "id": "7a97aded",
   "metadata": {},
   "outputs": [],
   "source": [
    "import os\n",
    "import json\n",
    "import csv\n",
    "import pandas as pd\n",
    "\n",
    "datafolder = \"./data/\""
   ]
  },
  {
   "cell_type": "code",
   "execution_count": 2,
   "id": "efc4e491",
   "metadata": {},
   "outputs": [],
   "source": [
    "seen = {}\n",
    "unseen = {}\n",
    "for folder in [\"test_seen\", \"test_unseen\"]:\n",
    "    fns = os.listdir(datafolder + folder)\n",
    "    fns.sort()\n",
    "    for fn in fns:\n",
    "        with open(datafolder + folder + \"/\" + fn, \"r\", encoding='utf8') as f:\n",
    "            data = json.load(f)\n",
    "        for i in range(len(data)):\n",
    "            dialogue_id = data[i][\"dialogue_id\"]\n",
    "            if folder == \"test_seen\":\n",
    "                seen[dialogue_id] = \"none\"\n",
    "            else:\n",
    "                unseen[dialogue_id] = \"none\"\n",
    "seen = sorted(seen.items(), key=lambda x: x[0])\n",
    "unseen = sorted(unseen.items(), key=lambda x: x[0])"
   ]
  },
  {
   "cell_type": "code",
   "execution_count": 3,
   "id": "9d5ca298",
   "metadata": {},
   "outputs": [],
   "source": [
    "data = pd.read_csv(\"./kaggle_unsee.csv\")"
   ]
  },
  {
   "cell_type": "code",
   "execution_count": 4,
   "id": "12139dd1",
   "metadata": {},
   "outputs": [],
   "source": [
    "check = {}\n",
    "for i in range(len(data)):\n",
    "    check[data[\"id\"][i]] = data[\"state\"][i]"
   ]
  },
  {
   "cell_type": "code",
   "execution_count": 5,
   "id": "b87ecd20",
   "metadata": {},
   "outputs": [],
   "source": [
    "f = open(\"./unseen_submission.csv\", \"w\")\n",
    "writer = csv.writer(f)\n",
    "writer.writerow([\"id\", \"state\"])\n",
    "for i in range(len(unseen)):\n",
    "    if unseen[i][0] in check.keys():\n",
    "        writer.writerow([unseen[i][0], check[unseen[i][0]]])\n",
    "    else:\n",
    "        writer.writerow([unseen[i][0], \"None\"])\n",
    "f.close()"
   ]
  }
 ],
 "metadata": {
  "kernelspec": {
   "display_name": "Python 3",
   "language": "python",
   "name": "python3"
  },
  "language_info": {
   "codemirror_mode": {
    "name": "ipython",
    "version": 3
   },
   "file_extension": ".py",
   "mimetype": "text/x-python",
   "name": "python",
   "nbconvert_exporter": "python",
   "pygments_lexer": "ipython3",
   "version": "3.8.8"
  }
 },
 "nbformat": 4,
 "nbformat_minor": 5
}
