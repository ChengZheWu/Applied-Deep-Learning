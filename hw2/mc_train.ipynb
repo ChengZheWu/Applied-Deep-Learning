{
 "cells": [
  {
   "cell_type": "code",
   "execution_count": 1,
   "id": "5d639e68",
   "metadata": {},
   "outputs": [],
   "source": [
    "import os\n",
    "import transformers\n",
    "import numpy as np\n",
    "import torch\n",
    "from datasets import Dataset, DatasetDict\n",
    "from eval import *\n",
    "from dataclasses import dataclass\n",
    "from transformers.tokenization_utils_base import PreTrainedTokenizerBase, PaddingStrategy\n",
    "from typing import Optional, Union\n",
    "\n",
    "\n",
    "dir_path = \"/data/NFS/andy/course/ADL/hw2/\"\n",
    "data_path = dir_path + \"/dataset/train.json\"\n",
    "context_path = dir_path + \"/dataset/context.json\"\n",
    "weights_path = dir_path + \"/mc_weigths/\"\n",
    "\n",
    "model_checkpoint = \"bert-base-chinese\"\n",
    "os.environ[\"CUDA_VISIBLE_DEVICES\"] = \"0\""
   ]
  },
  {
   "cell_type": "code",
   "execution_count": null,
   "id": "9bd73ca7",
   "metadata": {},
   "outputs": [],
   "source": [
    "def preprocess_function(examples):\n",
    "    question = [[q] * 7 for q in examples[\"question\"]]\n",
    "    sub_contexts = []\n",
    "    for i in range(len(examples[\"paragraphs\"])):\n",
    "        for p in examples[\"paragraphs\"][i]:\n",
    "            sub_contexts.append([p])\n",
    "\n",
    "    question = sum(question, [])\n",
    "    sub_contexts = sum(sub_contexts, [])\n",
    "    \n",
    "    max_length = 512\n",
    "    tokenized_examples = tokenizer(question, sub_contexts, max_length=max_length, truncation=True)\n",
    "    return {k: [v[i:i+7] for i in range(0, len(v), 7)] for k, v in tokenized_examples.items()}\n",
    "\n",
    "@dataclass\n",
    "class DataCollatorForMultipleChoice:\n",
    "    \"\"\"\n",
    "    Data collator that will dynamically pad the inputs for multiple choice received.\n",
    "    \"\"\"\n",
    "\n",
    "    tokenizer: PreTrainedTokenizerBase\n",
    "    padding: Union[bool, str, PaddingStrategy] = True\n",
    "    max_length: Optional[int] = None\n",
    "    pad_to_multiple_of: Optional[int] = None\n",
    "\n",
    "    def __call__(self, features):\n",
    "        label_name = \"label\" if \"label\" in features[0].keys() else \"labels\"\n",
    "        labels = [feature.pop(\"label\") for feature in features]\n",
    "        batch_size = len(features)\n",
    "        num_choices = len(features[0][\"input_ids\"])\n",
    "        flattened_features = []\n",
    "        for i, feature in enumerate(features):\n",
    "            num_choices = len(features[i][\"input_ids\"])\n",
    "            f = []\n",
    "            for j in range(num_choices):\n",
    "                d = {}\n",
    "                for k, v in feature.items():\n",
    "                    d.update({k: v[j]})\n",
    "                f.append(d)\n",
    "            flattened_features.append(f)\n",
    "        flattened_features = sum(flattened_features, [])\n",
    "        \n",
    "        batch = self.tokenizer.pad(\n",
    "            flattened_features,\n",
    "            padding=self.padding,\n",
    "            max_length=self.max_length,\n",
    "            pad_to_multiple_of=self.pad_to_multiple_of,\n",
    "            return_tensors=\"pt\",\n",
    "        )\n",
    "        \n",
    "        # Un-flatten\n",
    "        batch = {k: v.view(batch_size, num_choices, -1) for k, v in batch.items()}\n",
    "        # Add back labels\n",
    "        batch[\"labels\"] = torch.tensor(labels, dtype=torch.int64)\n",
    "        return batch\n",
    "\n",
    "def compute_metrics(eval_predictions):\n",
    "    predictions, label_ids = eval_predictions\n",
    "    preds = np.argmax(predictions, axis=1)\n",
    "    return {\"accuracy\": (preds == label_ids).astype(np.float32).mean().item()}"
   ]
  },
  {
   "cell_type": "code",
   "execution_count": 5,
   "id": "c8ec4a7b",
   "metadata": {},
   "outputs": [],
   "source": [
    "data = load_json(data_path)\n",
    "context = load_json(context_path)\n",
    "\n",
    "length = int(len(data)*0.8)\n",
    "train_data = {\"question\":[], \"paragraphs\":[], \"label\":[]}\n",
    "eval_data = {\"question\":[], \"paragraphs\":[], \"label\":[]}\n",
    "for sub in data[:length]:\n",
    "    train_data[\"question\"].append(sub[\"question\"])\n",
    "    train_data[\"paragraphs\"].append([context[i] for i in sub[\"paragraphs\"]])\n",
    "    train_data[\"label\"].append(sub[\"paragraphs\"].index(sub[\"relevant\"]))\n",
    "for sub in data[length:]:\n",
    "    eval_data[\"question\"].append(sub[\"question\"])\n",
    "    eval_data[\"paragraphs\"].append([context[i] for i in sub[\"paragraphs\"]])\n",
    "    eval_data[\"label\"].append(sub[\"paragraphs\"].index(sub[\"relevant\"]))\n",
    "    \n",
    "for i in range(len(train_data[\"paragraphs\"])):\n",
    "    while len(train_data[\"paragraphs\"][i]) != 7:\n",
    "        train_data[\"paragraphs\"][i].append(\"\")\n",
    "        \n",
    "for i in range(len(eval_data[\"paragraphs\"])):\n",
    "    while len(eval_data[\"paragraphs\"][i]) != 7:\n",
    "        eval_data[\"paragraphs\"][i].append(\"\")\n",
    "        \n",
    "datasets = DatasetDict({\"train\":Dataset.from_dict(train_data), \"eval\":Dataset.from_dict(eval_data)})"
   ]
  },
  {
   "cell_type": "code",
   "execution_count": 8,
   "id": "82fe974c",
   "metadata": {},
   "outputs": [],
   "source": [
    "tokenizer = transformers.AutoTokenizer.from_pretrained(model_checkpoint, use_fast=True)\n",
    "assert isinstance(tokenizer, transformers.PreTrainedTokenizerFast)\n",
    "\n",
    "encoded_datasets = datasets.map(preprocess_function, batched=True, batch_size=1000)"
   ]
  },
  {
   "cell_type": "code",
   "execution_count": 15,
   "id": "7e428bae",
   "metadata": {},
   "outputs": [
    {
     "name": "stderr",
     "output_type": "stream",
     "text": [
      "Some weights of the model checkpoint at bert-base-chinese were not used when initializing BertForMultipleChoice: ['cls.predictions.bias', 'cls.predictions.transform.dense.weight', 'cls.predictions.transform.dense.bias', 'cls.predictions.decoder.weight', 'cls.seq_relationship.weight', 'cls.seq_relationship.bias', 'cls.predictions.transform.LayerNorm.weight', 'cls.predictions.transform.LayerNorm.bias']\n",
      "- This IS expected if you are initializing BertForMultipleChoice from the checkpoint of a model trained on another task or with another architecture (e.g. initializing a BertForSequenceClassification model from a BertForPreTraining model).\n",
      "- This IS NOT expected if you are initializing BertForMultipleChoice from the checkpoint of a model that you expect to be exactly identical (initializing a BertForSequenceClassification model from a BertForSequenceClassification model).\n",
      "Some weights of BertForMultipleChoice were not initialized from the model checkpoint at bert-base-chinese and are newly initialized: ['classifier.weight', 'classifier.bias']\n",
      "You should probably TRAIN this model on a down-stream task to be able to use it for predictions and inference.\n"
     ]
    }
   ],
   "source": [
    "model = transformers.AutoModelForMultipleChoice.from_pretrained(model_checkpoint, num_labels=7)"
   ]
  },
  {
   "cell_type": "code",
   "execution_count": 16,
   "id": "7667589c",
   "metadata": {},
   "outputs": [],
   "source": [
    "batch_size = 2\n",
    "\n",
    "args = transformers.TrainingArguments(\n",
    "    output_dir = \"./mc_checkpoints\",\n",
    "    evaluation_strategy = \"epoch\",\n",
    "    learning_rate=5e-5,\n",
    "    per_device_train_batch_size=batch_size,\n",
    "    per_device_eval_batch_size=batch_size,\n",
    "    num_train_epochs=3,\n",
    "    weight_decay=0.01,\n",
    "    fp16 = True,\n",
    "    gradient_accumulation_steps = 32,\n",
    "    load_best_model_at_end = True,\n",
    ")\n",
    "\n",
    "trainer = transformers.Trainer(\n",
    "    model,\n",
    "    args,\n",
    "    train_dataset=encoded_datasets[\"train\"],\n",
    "    eval_dataset=encoded_datasets[\"eval\"],\n",
    "    tokenizer=tokenizer,\n",
    "    data_collator=DataCollatorForMultipleChoice(tokenizer),\n",
    "    compute_metrics=compute_metrics,\n",
    ")"
   ]
  },
  {
   "cell_type": "code",
   "execution_count": 22,
   "id": "ba0392a6",
   "metadata": {},
   "outputs": [
    {
     "data": {
      "text/html": [
       "\n",
       "    <div>\n",
       "      \n",
       "      <progress value='915' max='915' style='width:300px; height:20px; vertical-align: middle;'></progress>\n",
       "      [915/915 2:05:50, Epoch 2/3]\n",
       "    </div>\n",
       "    <table border=\"1\" class=\"dataframe\">\n",
       "  <thead>\n",
       "    <tr style=\"text-align: left;\">\n",
       "      <th>Epoch</th>\n",
       "      <th>Training Loss</th>\n",
       "      <th>Validation Loss</th>\n",
       "      <th>Accuracy</th>\n",
       "    </tr>\n",
       "  </thead>\n",
       "  <tbody>\n",
       "    <tr>\n",
       "      <td>0</td>\n",
       "      <td>No log</td>\n",
       "      <td>0.145049</td>\n",
       "      <td>0.947153</td>\n",
       "    </tr>\n",
       "    <tr>\n",
       "      <td>1</td>\n",
       "      <td>0.172900</td>\n",
       "      <td>0.148919</td>\n",
       "      <td>0.949611</td>\n",
       "    </tr>\n",
       "    <tr>\n",
       "      <td>2</td>\n",
       "      <td>0.172900</td>\n",
       "      <td>0.150763</td>\n",
       "      <td>0.955141</td>\n",
       "    </tr>\n",
       "  </tbody>\n",
       "</table><p>"
      ],
      "text/plain": [
       "<IPython.core.display.HTML object>"
      ]
     },
     "metadata": {},
     "output_type": "display_data"
    },
    {
     "data": {
      "text/plain": [
       "TrainOutput(global_step=915, training_loss=0.11664581507281528, metrics={'train_runtime': 7557.67, 'train_samples_per_second': 0.121, 'total_flos': 1.2772164168600779e+17, 'epoch': 3.0})"
      ]
     },
     "execution_count": 22,
     "metadata": {},
     "output_type": "execute_result"
    }
   ],
   "source": [
    "trainer.train()"
   ]
  },
  {
   "cell_type": "code",
   "execution_count": 23,
   "id": "44a1bd2c",
   "metadata": {},
   "outputs": [],
   "source": [
    "trainer.save_model(weights_path)"
   ]
  }
 ],
 "metadata": {
  "kernelspec": {
   "display_name": "Python 3",
   "language": "python",
   "name": "python3"
  },
  "language_info": {
   "codemirror_mode": {
    "name": "ipython",
    "version": 3
   },
   "file_extension": ".py",
   "mimetype": "text/x-python",
   "name": "python",
   "nbconvert_exporter": "python",
   "pygments_lexer": "ipython3",
   "version": "3.8.8"
  }
 },
 "nbformat": 4,
 "nbformat_minor": 5
}
