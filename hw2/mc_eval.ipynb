{
 "cells": [
  {
   "cell_type": "code",
   "execution_count": 1,
   "id": "c01e1a22",
   "metadata": {},
   "outputs": [],
   "source": [
    "import os\n",
    "import transformers\n",
    "import torch\n",
    "import numpy as np\n",
    "from datasets import Dataset, DatasetDict\n",
    "from eval import *\n",
    "from dataclasses import dataclass\n",
    "from transformers.tokenization_utils_base import PreTrainedTokenizerBase, PaddingStrategy\n",
    "from typing import Optional, Union\n",
    "\n",
    "\n",
    "\n",
    "dir_path = \"/data/NFS/andy/course/ADL/hw2/\"\n",
    "data_path = dir_path + \"/dataset/public.json\"\n",
    "context_path = dir_path + \"/dataset/context.json\"\n",
    "weights_path = dir_path + \"mc_weights/\"\n",
    "\n",
    "model_checkpoint = \"bert-base-chinese\"\n",
    "os.environ[\"CUDA_VISIBLE_DEVICES\"] = \"1\""
   ]
  },
  {
   "cell_type": "code",
   "execution_count": 2,
   "id": "1791938a",
   "metadata": {},
   "outputs": [],
   "source": [
    "def to_same_paragraphs(data):\n",
    "    for i in range(len(data[\"paragraphs\"])):\n",
    "        while len(data[\"paragraphs\"][i]) != 7:\n",
    "            data[\"paragraphs\"][i].append(\"\")\n",
    "    return data\n",
    "\n",
    "def data_transfer(data):\n",
    "    new_data = {\"question\":[], \"paragraphs\":[], \"label\":[]}\n",
    "    for sub in data:\n",
    "        new_data[\"question\"].append(sub[\"question\"])\n",
    "        new_data[\"paragraphs\"].append([context[i] for i in sub[\"paragraphs\"]])\n",
    "        new_data[\"label\"].append(sub[\"paragraphs\"].index(sub[\"relevant\"]))\n",
    "    \n",
    "    new_data = to_same_paragraphs(new_data)\n",
    "    return new_data\n",
    "\n",
    "def preprocess_function(examples):\n",
    "    question = [[q] * 7 for q in examples[\"question\"]]\n",
    "    sub_contexts = []\n",
    "    for i in range(len(examples[\"paragraphs\"])):\n",
    "        for p in examples[\"paragraphs\"][i]:\n",
    "            sub_contexts.append([p])\n",
    "\n",
    "    question = sum(question, [])\n",
    "    sub_contexts = sum(sub_contexts, [])\n",
    "    \n",
    "    max_length = 512\n",
    "    tokenized_examples = tokenizer(question, sub_contexts, max_length=max_length, truncation=True)\n",
    "    return {k: [v[i:i+7] for i in range(0, len(v), 7)] for k, v in tokenized_examples.items()}\n",
    "\n",
    "@dataclass\n",
    "class DataCollatorForMultipleChoice:\n",
    "    \"\"\"\n",
    "    Data collator that will dynamically pad the inputs for multiple choice received.\n",
    "    \"\"\"\n",
    "\n",
    "    tokenizer: PreTrainedTokenizerBase\n",
    "    padding: Union[bool, str, PaddingStrategy] = True\n",
    "    max_length: Optional[int] = None\n",
    "    pad_to_multiple_of: Optional[int] = None\n",
    "\n",
    "    def __call__(self, features):\n",
    "        label_name = \"label\" if \"label\" in features[0].keys() else \"labels\"\n",
    "        labels = [feature.pop(\"label\") for feature in features]\n",
    "        batch_size = len(features)\n",
    "        num_choices = len(features[0][\"input_ids\"])\n",
    "        flattened_features = []\n",
    "        for i, feature in enumerate(features):\n",
    "            num_choices = len(features[i][\"input_ids\"])\n",
    "            f = []\n",
    "            for j in range(num_choices):\n",
    "                d = {}\n",
    "                for k, v in feature.items():\n",
    "                    d.update({k: v[j]})\n",
    "                f.append(d)\n",
    "            flattened_features.append(f)\n",
    "        flattened_features = sum(flattened_features, [])\n",
    "        \n",
    "        batch = self.tokenizer.pad(\n",
    "            flattened_features,\n",
    "            padding=self.padding,\n",
    "            max_length=self.max_length,\n",
    "            pad_to_multiple_of=self.pad_to_multiple_of,\n",
    "            return_tensors=\"pt\",\n",
    "        )\n",
    "        \n",
    "        # Un-flatten\n",
    "        batch = {k: v.view(batch_size, num_choices, -1) for k, v in batch.items()}\n",
    "        # Add back labels\n",
    "        batch[\"labels\"] = torch.tensor(labels, dtype=torch.int64)\n",
    "        return batch\n",
    "\n",
    "def compute_metrics(eval_predictions):\n",
    "    predictions, label_ids = eval_predictions\n",
    "    preds = np.argmax(predictions, axis=1)\n",
    "    return {\"accuracy\": (preds == label_ids).astype(np.float32).mean().item()}"
   ]
  },
  {
   "cell_type": "code",
   "execution_count": 3,
   "id": "1a56a57d",
   "metadata": {},
   "outputs": [
    {
     "name": "stdout",
     "output_type": "stream",
     "text": [
      "[*] Loading /data/NFS/andy/course/ADL/hw2//dataset/public.json...done\n",
      "[*] Loading /data/NFS/andy/course/ADL/hw2//dataset/context.json...done\n"
     ]
    }
   ],
   "source": [
    "public_data = load_json(data_path)\n",
    "context = load_json(context_path)\n",
    "\n",
    "public_data = data_transfer(public_data)\n",
    "datasets = Dataset.from_dict(public_data)"
   ]
  },
  {
   "cell_type": "code",
   "execution_count": 4,
   "id": "aa1aa667",
   "metadata": {},
   "outputs": [
    {
     "data": {
      "application/vnd.jupyter.widget-view+json": {
       "model_id": "150f618b74c848a4afb8a3c5e654de45",
       "version_major": 2,
       "version_minor": 0
      },
      "text/plain": [
       "HBox(children=(FloatProgress(value=0.0, max=4.0), HTML(value='')))"
      ]
     },
     "metadata": {},
     "output_type": "display_data"
    },
    {
     "name": "stdout",
     "output_type": "stream",
     "text": [
      "\n"
     ]
    }
   ],
   "source": [
    "tokenizer = transformers.AutoTokenizer.from_pretrained(model_checkpoint, use_fast=True)\n",
    "assert isinstance(tokenizer, transformers.PreTrainedTokenizerFast)\n",
    "\n",
    "encoded_datasets = datasets.map(preprocess_function, batched=True, batch_size=1000)"
   ]
  },
  {
   "cell_type": "code",
   "execution_count": 5,
   "id": "3520152b",
   "metadata": {},
   "outputs": [],
   "source": [
    "model = transformers.AutoModelForMultipleChoice.from_pretrained(weights_path)"
   ]
  },
  {
   "cell_type": "code",
   "execution_count": 6,
   "id": "d5fedb43",
   "metadata": {},
   "outputs": [],
   "source": [
    "trainer = transformers.Trainer(\n",
    "    model,\n",
    "    eval_dataset=encoded_datasets,\n",
    "    tokenizer=tokenizer,\n",
    "    data_collator=DataCollatorForMultipleChoice(tokenizer),\n",
    "    compute_metrics=compute_metrics,\n",
    ")"
   ]
  },
  {
   "cell_type": "code",
   "execution_count": 7,
   "id": "4530240f",
   "metadata": {},
   "outputs": [
    {
     "data": {
      "text/html": [
       "\n",
       "    <div>\n",
       "      \n",
       "      <progress value='441' max='441' style='width:300px; height:20px; vertical-align: middle;'></progress>\n",
       "      [441/441 14:28]\n",
       "    </div>\n",
       "    "
      ],
      "text/plain": [
       "<IPython.core.display.HTML object>"
      ]
     },
     "metadata": {},
     "output_type": "display_data"
    },
    {
     "data": {
      "text/plain": [
       "{'eval_loss': 0.17410269379615784,\n",
       " 'eval_accuracy': 0.9415768384933472,\n",
       " 'eval_runtime': 871.1245,\n",
       " 'eval_samples_per_second': 4.048}"
      ]
     },
     "execution_count": 7,
     "metadata": {},
     "output_type": "execute_result"
    }
   ],
   "source": [
    "trainer.evaluate()"
   ]
  }
 ],
 "metadata": {
  "kernelspec": {
   "display_name": "Python 3",
   "language": "python",
   "name": "python3"
  },
  "language_info": {
   "codemirror_mode": {
    "name": "ipython",
    "version": 3
   },
   "file_extension": ".py",
   "mimetype": "text/x-python",
   "name": "python",
   "nbconvert_exporter": "python",
   "pygments_lexer": "ipython3",
   "version": "3.8.8"
  }
 },
 "nbformat": 4,
 "nbformat_minor": 5
}
