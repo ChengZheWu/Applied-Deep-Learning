{
 "cells": [
  {
   "cell_type": "code",
   "execution_count": 1,
   "id": "convenient-internet",
   "metadata": {},
   "outputs": [],
   "source": [
    "import json\n",
    "import pickle\n",
    "import csv\n",
    "from argparse import ArgumentParser, Namespace\n",
    "from pathlib import Path\n",
    "from typing import Dict\n",
    "\n",
    "import torch\n",
    "from torch.utils.data import DataLoader\n",
    "\n",
    "from intent_dataset import SeqClsDataset\n",
    "from intent_model import SeqClassifier\n",
    "from utils import Vocab\n",
    "\n",
    "device = torch.device(\"cuda:3\") if torch.cuda.is_available() else torch.device(\"cpu\")"
   ]
  },
  {
   "cell_type": "code",
   "execution_count": 2,
   "id": "organizational-start",
   "metadata": {},
   "outputs": [],
   "source": [
    "test_file = \"./data/intent/test.json\"\n",
    "cache_dir = \"./cache/intent/\"\n",
    "ckpt_dir = \"/data/NFS/andy/course/ADL/hw1/intent_weights2.pt\"\n",
    "pred_file = \"/data/NFS/andy/course/ADL/hw1/pred.intent3.csv\"\n",
    "max_len = 28"
   ]
  },
  {
   "cell_type": "code",
   "execution_count": 3,
   "id": "turkish-technology",
   "metadata": {},
   "outputs": [],
   "source": [
    "with open(cache_dir + \"vocab.pkl\", \"rb\") as f:\n",
    "        vocab: Vocab = pickle.load(f)\n",
    "\n",
    "intent_idx_path = Path(cache_dir + \"intent2idx.json\")\n",
    "intent2idx: Dict[str, int] = json.loads(intent_idx_path.read_text())\n",
    "\n",
    "data = json.loads(Path(test_file).read_text())\n",
    "dataset = SeqClsDataset(data, vocab, intent2idx, max_len)\n",
    "\n",
    "batch_size = 256\n",
    "test_loader = DataLoader(dataset, batch_size=batch_size, shuffle=False, collate_fn=dataset.collate_fn_test)"
   ]
  },
  {
   "cell_type": "code",
   "execution_count": 4,
   "id": "voluntary-yesterday",
   "metadata": {},
   "outputs": [],
   "source": [
    "embeddings = torch.load(cache_dir + \"embeddings.pt\")"
   ]
  },
  {
   "cell_type": "code",
   "execution_count": 5,
   "id": "proper-sender",
   "metadata": {},
   "outputs": [
    {
     "data": {
      "text/plain": [
       "<All keys matched successfully>"
      ]
     },
     "execution_count": 5,
     "metadata": {},
     "output_type": "execute_result"
    }
   ],
   "source": [
    "model = SeqClassifier(embeddings=embeddings, hidden_size=256, num_layers=2, dropout=0.3, bidirectional=True, num_class=150)\n",
    "model.to(device)\n",
    "model.load_state_dict(torch.load(ckpt_dir))"
   ]
  },
  {
   "cell_type": "code",
   "execution_count": 6,
   "id": "gentle-detail",
   "metadata": {},
   "outputs": [],
   "source": [
    "all_pred = []\n",
    "model.eval()\n",
    "with torch.no_grad():\n",
    "    for i, batch in enumerate(test_loader):\n",
    "        data = batch.to(device)\n",
    "        pred = model(data)\n",
    "        pclass = pred.argmax(dim=1)\n",
    "        for c in pclass:\n",
    "            all_pred.append(c.item())"
   ]
  },
  {
   "cell_type": "code",
   "execution_count": 7,
   "id": "editorial-spencer",
   "metadata": {},
   "outputs": [],
   "source": [
    "f = open(pred_file, \"w\")\n",
    "writer = csv.writer(f)\n",
    "writer.writerow([\"id\", \"intent\"])\n",
    "for i in range(len(all_pred)):\n",
    "    intent = dataset.idx2label(all_pred[i])\n",
    "    writer.writerow([\"test-%d\" %i, intent])\n",
    "f.close()"
   ]
  }
 ],
 "metadata": {
  "kernelspec": {
   "display_name": "Python 3",
   "language": "python",
   "name": "python3"
  },
  "language_info": {
   "codemirror_mode": {
    "name": "ipython",
    "version": 3
   },
   "file_extension": ".py",
   "mimetype": "text/x-python",
   "name": "python",
   "nbconvert_exporter": "python",
   "pygments_lexer": "ipython3",
   "version": "3.6.8"
  }
 },
 "nbformat": 4,
 "nbformat_minor": 5
}
