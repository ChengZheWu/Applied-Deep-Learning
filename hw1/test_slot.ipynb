{
 "cells": [
  {
   "cell_type": "code",
   "execution_count": 1,
   "id": "taken-extra",
   "metadata": {},
   "outputs": [],
   "source": [
    "import json\n",
    "import pickle\n",
    "import csv\n",
    "from argparse import ArgumentParser, Namespace\n",
    "from pathlib import Path\n",
    "from typing import Dict\n",
    "\n",
    "import torch\n",
    "\n",
    "from slot_dataset import SeqClsDataset\n",
    "from slot_model import SeqClassifier\n",
    "from utils import Vocab\n",
    "from torch.utils.data import DataLoader\n",
    "\n",
    "device = torch.device(\"cuda:2\") if torch.cuda.is_available() else torch.device(\"cpu\")"
   ]
  },
  {
   "cell_type": "code",
   "execution_count": 2,
   "id": "closing-disorder",
   "metadata": {},
   "outputs": [],
   "source": [
    "test_file = \"./data/slot/test.json\"\n",
    "cache_dir = \"./cache/slot/\"\n",
    "ckpt_dir = \"/data/NFS/andy/course/ADL/hw1/slot_weights2.pt\"\n",
    "pred_file = \"/data/NFS/andy/course/ADL/hw1/pred.slot2.csv\"\n",
    "max_len = 35"
   ]
  },
  {
   "cell_type": "code",
   "execution_count": 3,
   "id": "placed-missouri",
   "metadata": {},
   "outputs": [],
   "source": [
    "with open(cache_dir + \"vocab.pkl\", \"rb\") as f:\n",
    "        vocab: Vocab = pickle.load(f)\n",
    "\n",
    "tag_idx_path = Path(cache_dir + \"tag2idx.json\")\n",
    "tag2idx: Dict[str, int] = json.loads(tag_idx_path.read_text())\n",
    "\n",
    "data = json.loads(Path(test_file).read_text())\n",
    "dataset = SeqClsDataset(data, vocab, tag2idx, max_len)\n",
    "\n",
    "batch_size = 128\n",
    "test_loader = DataLoader(dataset, batch_size=batch_size, shuffle=False, collate_fn=dataset.collate_fn_test)"
   ]
  },
  {
   "cell_type": "code",
   "execution_count": 4,
   "id": "demographic-humidity",
   "metadata": {},
   "outputs": [],
   "source": [
    "# max_len = 0\n",
    "# for i in range(len(dataset.data)):\n",
    "#     sentence = dataset.data[i][\"tokens\"]\n",
    "#     if len(sentence) > max_len:\n",
    "#         max_len = len(sentence)\n",
    "# print(max_len)"
   ]
  },
  {
   "cell_type": "code",
   "execution_count": 5,
   "id": "continent-reward",
   "metadata": {},
   "outputs": [],
   "source": [
    "embeddings = torch.load(cache_dir + \"embeddings.pt\")"
   ]
  },
  {
   "cell_type": "code",
   "execution_count": 6,
   "id": "encouraging-works",
   "metadata": {},
   "outputs": [
    {
     "data": {
      "text/plain": [
       "<All keys matched successfully>"
      ]
     },
     "execution_count": 6,
     "metadata": {},
     "output_type": "execute_result"
    }
   ],
   "source": [
    "model = SeqClassifier(embeddings=embeddings, hidden_size=256, num_layers=2, dropout=0.2, bidirectional=True, num_class=9)\n",
    "model.to(device)\n",
    "model.load_state_dict(torch.load(ckpt_dir))"
   ]
  },
  {
   "cell_type": "code",
   "execution_count": 7,
   "id": "intense-proxy",
   "metadata": {},
   "outputs": [],
   "source": [
    "all_pred = []\n",
    "model.eval()\n",
    "with torch.no_grad():\n",
    "    for i, batch in enumerate(test_loader):\n",
    "        data = batch.to(device)\n",
    "        pred = model(data)\n",
    "        pclass = pred.argmax(dim=2)\n",
    "        for p in pclass:\n",
    "            all_pred.append(p.cpu().data.numpy())"
   ]
  },
  {
   "cell_type": "code",
   "execution_count": 8,
   "id": "physical-denver",
   "metadata": {},
   "outputs": [],
   "source": [
    "f = open(pred_file, \"w\")\n",
    "writer = csv.writer(f)\n",
    "writer.writerow([\"id\", \"tags\"])\n",
    "for i in range(len(all_pred)):\n",
    "    length = len(dataset.data[i][\"tokens\"])\n",
    "    tags = \"\"\n",
    "    for j in range(length):\n",
    "        tag = dataset.idx2label(all_pred[i][j])\n",
    "        tags += tag\n",
    "        if j != length-1:\n",
    "            tags += \" \"\n",
    "    writer.writerow([\"test-%d\" %i, tags])\n",
    "f.close()"
   ]
  }
 ],
 "metadata": {
  "kernelspec": {
   "display_name": "Python 3",
   "language": "python",
   "name": "python3"
  },
  "language_info": {
   "codemirror_mode": {
    "name": "ipython",
    "version": 3
   },
   "file_extension": ".py",
   "mimetype": "text/x-python",
   "name": "python",
   "nbconvert_exporter": "python",
   "pygments_lexer": "ipython3",
   "version": "3.6.8"
  }
 },
 "nbformat": 4,
 "nbformat_minor": 5
}
