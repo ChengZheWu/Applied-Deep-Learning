{
 "cells": [
  {
   "cell_type": "code",
   "execution_count": 51,
   "id": "variable-arlington",
   "metadata": {},
   "outputs": [],
   "source": [
    "import json\n",
    "import pickle\n",
    "import csv\n",
    "from argparse import ArgumentParser, Namespace\n",
    "from pathlib import Path\n",
    "from typing import Dict\n",
    "\n",
    "import torch\n",
    "\n",
    "from slot_dataset import SeqClsDataset\n",
    "from slot_model import SeqClassifier\n",
    "from utils import Vocab\n",
    "from torch.utils.data import DataLoader\n",
    "from seqeval.metrics import classification_report\n",
    "from seqeval.scheme import IOB2\n",
    "\n",
    "device = torch.device(\"cuda:3\") if torch.cuda.is_available() else torch.device(\"cpu\")"
   ]
  },
  {
   "cell_type": "code",
   "execution_count": 2,
   "id": "premium-mentor",
   "metadata": {},
   "outputs": [],
   "source": [
    "def cal_joint_acc(pred, label):\n",
    "    pclass = pred.argmax(dim=2)\n",
    "    correct = 0\n",
    "    for i in range(len(label)):\n",
    "        s_label = label[i][label[i]!=-100]\n",
    "        length = len(s_label)\n",
    "        if (s_label==pclass[i][:length]).all():\n",
    "            correct += 1\n",
    "    jacc = correct / len(label)\n",
    "    return jacc"
   ]
  },
  {
   "cell_type": "code",
   "execution_count": 3,
   "id": "global-restriction",
   "metadata": {},
   "outputs": [],
   "source": [
    "def cal_token_acc(pred, label):\n",
    "    pclass = pred.argmax(dim=2)\n",
    "    acc = 0\n",
    "    for i in range(len(label)):\n",
    "        s_label = label[i][label[i]!=-100]\n",
    "        length = len(s_label)\n",
    "        acc += (s_label==pclass[i][:length]).sum().item()/length\n",
    "    acc /= len(label)\n",
    "    return acc"
   ]
  },
  {
   "cell_type": "code",
   "execution_count": 4,
   "id": "protecting-family",
   "metadata": {},
   "outputs": [],
   "source": [
    "eval_file = \"./data/slot/eval.json\"\n",
    "cache_dir = \"./cache/slot/\"\n",
    "ckpt_dir = \"/data/NFS/andy/course/ADL/hw1/slot_weights.pt\"\n",
    "max_len = 35"
   ]
  },
  {
   "cell_type": "code",
   "execution_count": 5,
   "id": "olympic-julian",
   "metadata": {},
   "outputs": [],
   "source": [
    "with open(cache_dir + \"vocab.pkl\", \"rb\") as f:\n",
    "        vocab: Vocab = pickle.load(f)\n",
    "\n",
    "tag_idx_path = Path(cache_dir + \"tag2idx.json\")\n",
    "tag2idx: Dict[str, int] = json.loads(tag_idx_path.read_text())\n",
    "\n",
    "data = json.loads(Path(eval_file).read_text())\n",
    "dataset = SeqClsDataset(data, vocab, tag2idx, max_len)\n",
    "\n",
    "batch_size = 128\n",
    "val_loader = DataLoader(dataset, batch_size=batch_size, shuffle=False, collate_fn=dataset.collate_fn)"
   ]
  },
  {
   "cell_type": "code",
   "execution_count": 6,
   "id": "creative-cathedral",
   "metadata": {},
   "outputs": [],
   "source": [
    "# max_len = 0\n",
    "# for i in range(len(dataset.data)):\n",
    "#     sentence = dataset.data[i][\"tokens\"]\n",
    "#     if len(sentence) > max_len:\n",
    "#         max_len = len(sentence)\n",
    "# print(max_len)"
   ]
  },
  {
   "cell_type": "code",
   "execution_count": 7,
   "id": "binding-constraint",
   "metadata": {},
   "outputs": [],
   "source": [
    "embeddings = torch.load(cache_dir + \"embeddings.pt\")"
   ]
  },
  {
   "cell_type": "code",
   "execution_count": 8,
   "id": "solid-stereo",
   "metadata": {},
   "outputs": [
    {
     "data": {
      "text/plain": [
       "<All keys matched successfully>"
      ]
     },
     "execution_count": 8,
     "metadata": {},
     "output_type": "execute_result"
    }
   ],
   "source": [
    "model = SeqClassifier(embeddings=embeddings, hidden_size=256, num_layers=2, dropout=0.2, bidirectional=True, num_class=9)\n",
    "model.to(device)\n",
    "model.load_state_dict(torch.load(ckpt_dir))"
   ]
  },
  {
   "cell_type": "code",
   "execution_count": 53,
   "id": "proprietary-positive",
   "metadata": {},
   "outputs": [
    {
     "name": "stdout",
     "output_type": "stream",
     "text": [
      "0.8007061298076923\n",
      "0.9639372878719882\n",
      "              precision    recall  f1-score   support\n",
      "\n",
      "        date       0.75      0.74      0.74       206\n",
      "  first_name       0.93      0.88      0.90       102\n",
      "   last_name       0.89      0.73      0.80        78\n",
      "      people       0.77      0.71      0.74       238\n",
      "        time       0.84      0.90      0.87       218\n",
      "\n",
      "   micro avg       0.81      0.79      0.80       842\n",
      "   macro avg       0.84      0.79      0.81       842\n",
      "weighted avg       0.81      0.79      0.80       842\n",
      "\n"
     ]
    }
   ],
   "source": [
    "joint_acc = 0\n",
    "token_acc = 0\n",
    "all_pred = []\n",
    "all_label = []\n",
    "\n",
    "model.eval()\n",
    "with torch.no_grad():\n",
    "    for i, batch in enumerate(val_loader):\n",
    "        data = batch[0].to(device)\n",
    "        label = batch[1].to(device)\n",
    "        pred = model(data)\n",
    "        pclass = pred.argmax(dim=2)\n",
    "        for i in range(len(label)):\n",
    "            s_label = label[i][label[i]!=-100]\n",
    "            length = len(s_label)\n",
    "            sub_pred = []\n",
    "            sub_label = []\n",
    "            for j in range(length):\n",
    "                sub_pred.append(dataset.idx2label(pclass[i][j].item()))\n",
    "                sub_label.append(dataset.idx2label(label[i][j].item()))\n",
    "            all_pred.append(sub_pred)\n",
    "            all_label.append(sub_label)\n",
    "        \n",
    "        joint_acc += cal_joint_acc(pred, label)\n",
    "        token_acc += cal_token_acc(pred, label)\n",
    "\n",
    "print(joint_acc/val_loader.__len__())\n",
    "print(token_acc/val_loader.__len__())\n",
    "print(classification_report(all_label, all_pred, scheme=IOB2, mode=\"strict\"))"
   ]
  }
 ],
 "metadata": {
  "kernelspec": {
   "display_name": "Python 3",
   "language": "python",
   "name": "python3"
  },
  "language_info": {
   "codemirror_mode": {
    "name": "ipython",
    "version": 3
   },
   "file_extension": ".py",
   "mimetype": "text/x-python",
   "name": "python",
   "nbconvert_exporter": "python",
   "pygments_lexer": "ipython3",
   "version": "3.6.8"
  }
 },
 "nbformat": 4,
 "nbformat_minor": 5
}
